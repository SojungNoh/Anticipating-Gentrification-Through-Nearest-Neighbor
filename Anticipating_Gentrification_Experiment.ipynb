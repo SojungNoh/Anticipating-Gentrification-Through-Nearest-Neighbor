{
  "nbformat": 4,
  "nbformat_minor": 0,
  "metadata": {
    "colab": {
      "name": "Anticipating Gentrification - Experiment(2)",
      "provenance": [],
      "collapsed_sections": []
    },
    "kernelspec": {
      "name": "python3",
      "display_name": "Python 3"
    },
    "language_info": {
      "name": "python"
    }
  },
  "cells": [
    {
      "cell_type": "code",
      "source": [
        "from google.colab import drive\n",
        "drive.mount('/content/drive')"
      ],
      "metadata": {
        "colab": {
          "base_uri": "https://localhost:8080/"
        },
        "id": "8Q_--2BVcBJY",
        "outputId": "f91f6db1-b62e-46f3-9b1b-bf34223485b4"
      },
      "execution_count": null,
      "outputs": [
        {
          "output_type": "stream",
          "name": "stdout",
          "text": [
            "Mounted at /content/drive\n"
          ]
        }
      ]
    },
    {
      "cell_type": "code",
      "source": [
        "import numpy as np\n",
        "import pandas as pd\n",
        "import math\n",
        "import os\n",
        "import glob\n",
        "\n",
        "from sklearn.preprocessing import MinMaxScaler\n",
        "from sklearn.metrics.pairwise import cosine_similarity"
      ],
      "metadata": {
        "id": "qc6ku_gmcCf8"
      },
      "execution_count": null,
      "outputs": []
    },
    {
      "cell_type": "markdown",
      "source": [
        "## 0. 데이터 정리된 형태로 불러오기"
      ],
      "metadata": {
        "id": "-tansP5gdNhq"
      }
    },
    {
      "cell_type": "markdown",
      "source": [
        "전처리된 데이터들을 사용할 수 있도록 불러온다."
      ],
      "metadata": {
        "id": "pY6dQhJwA61-"
      }
    },
    {
      "cell_type": "code",
      "source": [
        "# 2021\n",
        "d2021 = pd.read_csv(\"/content/drive/MyDrive/2022_1 Urban Studies/@Dataset/Year_2021_data.csv\")\n",
        "data2021 = d2021.set_index('Unnamed: 0')\n",
        "data2021 = data2021.iloc[:882]\n",
        "# 2020\n",
        "d2020 = pd.read_csv(\"/content/drive/MyDrive/2022_1 Urban Studies/@Dataset/Year_2020_data.csv\", encoding='cp949')\n",
        "data2020 = d2020.set_index('Unnamed: 0')\n",
        "data2020 = data2020.iloc[:882]\n",
        "# 2019\n",
        "d2019 = pd.read_csv(\"/content/drive/MyDrive/2022_1 Urban Studies/@Dataset/Year_2019_data.csv\")\n",
        "data2019 = d2019.set_index('Unnamed: 0')\n",
        "data2019 = data2019.iloc[:882]\n",
        "# 2018\n",
        "d2018 = pd.read_csv(\"/content/drive/MyDrive/2022_1 Urban Studies/@Dataset/Year_2018_data.csv\")\n",
        "data2018 = d2018.set_index('Unnamed: 0')\n",
        "data2018 = data2018.iloc[:882]\n",
        "# 2017\n",
        "d2017 = pd.read_csv(\"/content/drive/MyDrive/2022_1 Urban Studies/@Dataset/Year_2017_data.csv\")\n",
        "data2017 = d2017.set_index('Unnamed: 0')\n",
        "data2017 = data2017.iloc[:882]\n",
        "\n",
        "# 상권코드\n",
        "code2name = pd.read_csv(\"/content/drive/MyDrive/2022_1 Urban Studies/@Dataset/상권코드.csv\")\n",
        "code_transl = code2name.set_index('neighbor_code')\n",
        "code_transl = code_transl.iloc[:882]\n",
        "code_transl\n",
        "name_transl = dict(zip(list(code_transl['neighbor_name']), code_transl.index))"
      ],
      "metadata": {
        "id": "hm0i4ruU78mu"
      },
      "execution_count": null,
      "outputs": []
    },
    {
      "cell_type": "markdown",
      "source": [
        "유사도를 계산하기 위해 유사도 계산의 벤치마크가 될 골목상권을 추출한다. 그 대상은 두 개의 필터를 통해 도출한다.\n",
        "- Filter1 : *2021년 현재 203040대 매출액 크기가 0.15이상인 것*\n",
        "- Filter2 : *2017 - 2021년 203040대 매출금액 성장률이 가장 큰 Top 5*"
      ],
      "metadata": {
        "id": "Il7DN6AzfbjI"
      }
    },
    {
      "cell_type": "code",
      "source": [
        "# Filter1 : 2021년 203040 매출의 크기가 0.15 이상인 것\n",
        "index_val = data2017.sort_values('2340대_매출금액', ascending=False).head(50).index[:1000039]\n",
        "\n",
        "\n",
        "# Filter2 :  2017 - 2021년 203040대 매출금액 성장률이 가장 큰 Top 5\n",
        "growth_list = []\n",
        "for i in range(len(index_val)) :\n",
        "  index = index_val[i]\n",
        "  try :\n",
        "   growth =  (data2021['2340대_매출금액'].loc[index] - data2017['2340대_매출금액'].loc[index]) / data2017['2340대_매출금액'].loc[index]\n",
        "   name = list(code_transl.loc[index])[0]\n",
        "   growth_list.append([index, name, growth * 100])\n",
        "  except :\n",
        "    pass\n",
        "\n",
        "df_growth_rate = pd.DataFrame(growth_list, columns=['neighbor_code', 'neighbor_name', 'growth_rate'])"
      ],
      "metadata": {
        "id": "zH4XcLFjhjIy"
      },
      "execution_count": null,
      "outputs": []
    },
    {
      "cell_type": "markdown",
      "source": [
        "도출된 Top 5 : 아차산로15길[1000114] / 도봉로114길[1000360] / 녹사평대로32길 [1000052] / 동교로38길[1000470] "
      ],
      "metadata": {
        "id": "gWBnzuDcpoIc"
      }
    },
    {
      "cell_type": "code",
      "source": [
        "test_list = [1000114, 1000360, 1000052, 1000470]\n",
        "\n",
        "data2017.loc[test_list]"
      ],
      "metadata": {
        "colab": {
          "base_uri": "https://localhost:8080/",
          "height": 206
        },
        "id": "bdKD6R_HEeO_",
        "outputId": "9e8f32ec-ee8a-4f0e-8b17-4012224db7cd"
      },
      "execution_count": null,
      "outputs": [
        {
          "output_type": "execute_result",
          "data": {
            "text/plain": [
              "            T_remainpop  T_commuterpop  commercial_facility_count  \\\n",
              "Unnamed: 0                                                          \n",
              "1000114           394.0         4070.0                        3.0   \n",
              "1000360          4971.0          475.0                       37.0   \n",
              "1000052           612.0          315.0                        2.0   \n",
              "1000470          1561.0          250.0                       15.0   \n",
              "\n",
              "            subwayst_count  busst_count   분기당_매출_금액  2340대_매출금액  영업기간/서울평균  \\\n",
              "Unnamed: 0                                                                   \n",
              "1000114                0.0          1.0  471.441604    0.107619       0.83   \n",
              "1000360                0.0          4.0  632.760860    0.147422       0.90   \n",
              "1000052                0.0          0.0  563.854437    0.142768       1.17   \n",
              "1000470                0.0          0.0  927.468292    0.260711       0.33   \n",
              "\n",
              "            폐업기간/서울평균  \n",
              "Unnamed: 0             \n",
              "1000114          0.94  \n",
              "1000360          0.93  \n",
              "1000052          1.18  \n",
              "1000470          0.93  "
            ],
            "text/html": [
              "\n",
              "  <div id=\"df-e2bca1f0-af8a-49cf-ab21-f5c48aa50ab7\">\n",
              "    <div class=\"colab-df-container\">\n",
              "      <div>\n",
              "<style scoped>\n",
              "    .dataframe tbody tr th:only-of-type {\n",
              "        vertical-align: middle;\n",
              "    }\n",
              "\n",
              "    .dataframe tbody tr th {\n",
              "        vertical-align: top;\n",
              "    }\n",
              "\n",
              "    .dataframe thead th {\n",
              "        text-align: right;\n",
              "    }\n",
              "</style>\n",
              "<table border=\"1\" class=\"dataframe\">\n",
              "  <thead>\n",
              "    <tr style=\"text-align: right;\">\n",
              "      <th></th>\n",
              "      <th>T_remainpop</th>\n",
              "      <th>T_commuterpop</th>\n",
              "      <th>commercial_facility_count</th>\n",
              "      <th>subwayst_count</th>\n",
              "      <th>busst_count</th>\n",
              "      <th>분기당_매출_금액</th>\n",
              "      <th>2340대_매출금액</th>\n",
              "      <th>영업기간/서울평균</th>\n",
              "      <th>폐업기간/서울평균</th>\n",
              "    </tr>\n",
              "    <tr>\n",
              "      <th>Unnamed: 0</th>\n",
              "      <th></th>\n",
              "      <th></th>\n",
              "      <th></th>\n",
              "      <th></th>\n",
              "      <th></th>\n",
              "      <th></th>\n",
              "      <th></th>\n",
              "      <th></th>\n",
              "      <th></th>\n",
              "    </tr>\n",
              "  </thead>\n",
              "  <tbody>\n",
              "    <tr>\n",
              "      <th>1000114</th>\n",
              "      <td>394.0</td>\n",
              "      <td>4070.0</td>\n",
              "      <td>3.0</td>\n",
              "      <td>0.0</td>\n",
              "      <td>1.0</td>\n",
              "      <td>471.441604</td>\n",
              "      <td>0.107619</td>\n",
              "      <td>0.83</td>\n",
              "      <td>0.94</td>\n",
              "    </tr>\n",
              "    <tr>\n",
              "      <th>1000360</th>\n",
              "      <td>4971.0</td>\n",
              "      <td>475.0</td>\n",
              "      <td>37.0</td>\n",
              "      <td>0.0</td>\n",
              "      <td>4.0</td>\n",
              "      <td>632.760860</td>\n",
              "      <td>0.147422</td>\n",
              "      <td>0.90</td>\n",
              "      <td>0.93</td>\n",
              "    </tr>\n",
              "    <tr>\n",
              "      <th>1000052</th>\n",
              "      <td>612.0</td>\n",
              "      <td>315.0</td>\n",
              "      <td>2.0</td>\n",
              "      <td>0.0</td>\n",
              "      <td>0.0</td>\n",
              "      <td>563.854437</td>\n",
              "      <td>0.142768</td>\n",
              "      <td>1.17</td>\n",
              "      <td>1.18</td>\n",
              "    </tr>\n",
              "    <tr>\n",
              "      <th>1000470</th>\n",
              "      <td>1561.0</td>\n",
              "      <td>250.0</td>\n",
              "      <td>15.0</td>\n",
              "      <td>0.0</td>\n",
              "      <td>0.0</td>\n",
              "      <td>927.468292</td>\n",
              "      <td>0.260711</td>\n",
              "      <td>0.33</td>\n",
              "      <td>0.93</td>\n",
              "    </tr>\n",
              "  </tbody>\n",
              "</table>\n",
              "</div>\n",
              "      <button class=\"colab-df-convert\" onclick=\"convertToInteractive('df-e2bca1f0-af8a-49cf-ab21-f5c48aa50ab7')\"\n",
              "              title=\"Convert this dataframe to an interactive table.\"\n",
              "              style=\"display:none;\">\n",
              "        \n",
              "  <svg xmlns=\"http://www.w3.org/2000/svg\" height=\"24px\"viewBox=\"0 0 24 24\"\n",
              "       width=\"24px\">\n",
              "    <path d=\"M0 0h24v24H0V0z\" fill=\"none\"/>\n",
              "    <path d=\"M18.56 5.44l.94 2.06.94-2.06 2.06-.94-2.06-.94-.94-2.06-.94 2.06-2.06.94zm-11 1L8.5 8.5l.94-2.06 2.06-.94-2.06-.94L8.5 2.5l-.94 2.06-2.06.94zm10 10l.94 2.06.94-2.06 2.06-.94-2.06-.94-.94-2.06-.94 2.06-2.06.94z\"/><path d=\"M17.41 7.96l-1.37-1.37c-.4-.4-.92-.59-1.43-.59-.52 0-1.04.2-1.43.59L10.3 9.45l-7.72 7.72c-.78.78-.78 2.05 0 2.83L4 21.41c.39.39.9.59 1.41.59.51 0 1.02-.2 1.41-.59l7.78-7.78 2.81-2.81c.8-.78.8-2.07 0-2.86zM5.41 20L4 18.59l7.72-7.72 1.47 1.35L5.41 20z\"/>\n",
              "  </svg>\n",
              "      </button>\n",
              "      \n",
              "  <style>\n",
              "    .colab-df-container {\n",
              "      display:flex;\n",
              "      flex-wrap:wrap;\n",
              "      gap: 12px;\n",
              "    }\n",
              "\n",
              "    .colab-df-convert {\n",
              "      background-color: #E8F0FE;\n",
              "      border: none;\n",
              "      border-radius: 50%;\n",
              "      cursor: pointer;\n",
              "      display: none;\n",
              "      fill: #1967D2;\n",
              "      height: 32px;\n",
              "      padding: 0 0 0 0;\n",
              "      width: 32px;\n",
              "    }\n",
              "\n",
              "    .colab-df-convert:hover {\n",
              "      background-color: #E2EBFA;\n",
              "      box-shadow: 0px 1px 2px rgba(60, 64, 67, 0.3), 0px 1px 3px 1px rgba(60, 64, 67, 0.15);\n",
              "      fill: #174EA6;\n",
              "    }\n",
              "\n",
              "    [theme=dark] .colab-df-convert {\n",
              "      background-color: #3B4455;\n",
              "      fill: #D2E3FC;\n",
              "    }\n",
              "\n",
              "    [theme=dark] .colab-df-convert:hover {\n",
              "      background-color: #434B5C;\n",
              "      box-shadow: 0px 1px 3px 1px rgba(0, 0, 0, 0.15);\n",
              "      filter: drop-shadow(0px 1px 2px rgba(0, 0, 0, 0.3));\n",
              "      fill: #FFFFFF;\n",
              "    }\n",
              "  </style>\n",
              "\n",
              "      <script>\n",
              "        const buttonEl =\n",
              "          document.querySelector('#df-e2bca1f0-af8a-49cf-ab21-f5c48aa50ab7 button.colab-df-convert');\n",
              "        buttonEl.style.display =\n",
              "          google.colab.kernel.accessAllowed ? 'block' : 'none';\n",
              "\n",
              "        async function convertToInteractive(key) {\n",
              "          const element = document.querySelector('#df-e2bca1f0-af8a-49cf-ab21-f5c48aa50ab7');\n",
              "          const dataTable =\n",
              "            await google.colab.kernel.invokeFunction('convertToInteractive',\n",
              "                                                     [key], {});\n",
              "          if (!dataTable) return;\n",
              "\n",
              "          const docLinkHtml = 'Like what you see? Visit the ' +\n",
              "            '<a target=\"_blank\" href=https://colab.research.google.com/notebooks/data_table.ipynb>data table notebook</a>'\n",
              "            + ' to learn more about interactive tables.';\n",
              "          element.innerHTML = '';\n",
              "          dataTable['output_type'] = 'display_data';\n",
              "          await google.colab.output.renderOutput(dataTable, element);\n",
              "          const docLink = document.createElement('div');\n",
              "          docLink.innerHTML = docLinkHtml;\n",
              "          element.appendChild(docLink);\n",
              "        }\n",
              "      </script>\n",
              "    </div>\n",
              "  </div>\n",
              "  "
            ]
          },
          "metadata": {},
          "execution_count": 143
        }
      ]
    },
    {
      "cell_type": "markdown",
      "source": [
        "## 1. 정규화\n",
        "데이터가 반영될 시, 편향을 최소화하기 위해 정규화 진행."
      ],
      "metadata": {
        "id": "9GaE7TMIAiI2"
      }
    },
    {
      "cell_type": "code",
      "source": [
        "scaler = MinMaxScaler()\n",
        "\n",
        "arr2021 = scaler.fit_transform(data2021)\n",
        "arr2020 = scaler.fit_transform(data2020)\n",
        "arr2019 = scaler.fit_transform(data2019)\n",
        "arr2018 = scaler.fit_transform(data2018)\n",
        "arr2017 = scaler.fit_transform(data2017)\n",
        "\n",
        "\n"
      ],
      "metadata": {
        "id": "yuL5cvPf9htE"
      },
      "execution_count": null,
      "outputs": []
    },
    {
      "cell_type": "markdown",
      "source": [
        "## 2. 유사도 검증 및 예측 상권 도출\n",
        "\n",
        "정규화된 데이터를 활용해 유사도 검증을 본격적으로 진행. 상기 도출한 5개 상권을 대상으로 각각 진행"
      ],
      "metadata": {
        "id": "gtrkIoiMB8Su"
      }
    },
    {
      "cell_type": "code",
      "source": [
        "yearly_data = [data2017, data2018, data2019, data2020, data2021]"
      ],
      "metadata": {
        "id": "TBHopcucZVd8"
      },
      "execution_count": null,
      "outputs": []
    },
    {
      "cell_type": "markdown",
      "source": [
        "##### (1) 1000114 아차산로15길 2017년도 데이터 -- 2017~2021 데이터"
      ],
      "metadata": {
        "id": "TE5YrwOJCHOJ"
      }
    },
    {
      "cell_type": "code",
      "source": [
        "Itaewon54_yearly_data = []\n",
        "\n",
        "for y in range(5):\n",
        "\n",
        "  sim_Iteawon54 = cosine_similarity([data2017.loc[1000114]], yearly_data[y])\n",
        "  sim_df = pd.DataFrame({'Code':yearly_data[y].index, 'Similarity':sim_Iteawon54[0]})\n",
        "  sim_list = sim_df.sort_values('Similarity', ascending=False).iloc[:10].values.tolist()\n",
        "  Itaewon54_yearly_data.append(sim_list)\n",
        "\n",
        "# Itaewon54_yearly_data"
      ],
      "metadata": {
        "id": "oO58vtiCB-xv"
      },
      "execution_count": null,
      "outputs": []
    },
    {
      "cell_type": "markdown",
      "source": [
        "##### (2) 1000360 도봉로114길 2017년도 데이터 -- 2017~2021 데이터\n"
      ],
      "metadata": {
        "id": "ecdRCTs8aG4r"
      }
    },
    {
      "cell_type": "code",
      "source": [
        "Wangshimni14_yearly_data = []\n",
        "\n",
        "for y in range(5):\n",
        "\n",
        "  sim_Wangshimni14 = cosine_similarity([data2017.loc[1000360]], yearly_data[y])\n",
        "  sim_df = pd.DataFrame({'Code':yearly_data[y].index, 'Similarity':sim_Wangshimni14[0]})\n",
        "  sim_list = sim_df.sort_values('Similarity', ascending=False).iloc[:10].values.tolist()\n",
        "  Wangshimni14_yearly_data.append(sim_list)\n",
        "\n",
        "#Wangshimni14_yearly_data"
      ],
      "metadata": {
        "id": "_3kZ9aAlCAus"
      },
      "execution_count": null,
      "outputs": []
    },
    {
      "cell_type": "markdown",
      "source": [
        "##### (3) 1000052 녹사평대로32길 2017년도 데이터 -- 2017~2021 데이터"
      ],
      "metadata": {
        "id": "6FJ_5V2fasjV"
      }
    },
    {
      "cell_type": "code",
      "source": [
        "Bukchon5_yearly_data = []\n",
        "\n",
        "for y in range(5):\n",
        "\n",
        "  sim_Bukchon5 = cosine_similarity([data2017.loc[1000052]], yearly_data[y])\n",
        "  sim_df = pd.DataFrame({'Code':yearly_data[y].index, 'Similarity':sim_Bukchon5[0]})\n",
        "  sim_list = sim_df.sort_values('Similarity', ascending=False).iloc[:10].values.tolist()\n",
        "  Bukchon5_yearly_data.append(sim_list)\n",
        "\n",
        "#Bukchon5_yearly_data"
      ],
      "metadata": {
        "id": "KdzQjV7obew8"
      },
      "execution_count": null,
      "outputs": []
    },
    {
      "cell_type": "markdown",
      "source": [
        "##### (4) 1000470 동교로38길 2017년도 데이터 -- 2017~2021 데이터"
      ],
      "metadata": {
        "id": "IKj4XtDZbYMT"
      }
    },
    {
      "cell_type": "code",
      "source": [
        "Opesan67_yearly_data = []\n",
        "\n",
        "for y in range(5):\n",
        "\n",
        "  sim_Opesan67 = cosine_similarity([data2017.loc[1000342]], yearly_data[y])\n",
        "  sim_df = pd.DataFrame({'Code':yearly_data[y].index, 'Similarity':sim_Opesan67[0]})\n",
        "  sim_list = sim_df.sort_values('Similarity', ascending=False).iloc[:10].values.tolist()\n",
        "  Opesan67_yearly_data.append(sim_list)\n",
        "\n",
        "#Opesan67_yearly_data"
      ],
      "metadata": {
        "id": "omkqd-z7arKs"
      },
      "execution_count": null,
      "outputs": []
    },
    {
      "cell_type": "markdown",
      "source": [
        "## 3. 상권코드 상권명으로 보기 좋게 번역"
      ],
      "metadata": {
        "id": "Q0yoVXfFd82c"
      }
    },
    {
      "cell_type": "markdown",
      "source": [
        "{상권코드 : 상권명} 호출할 딕셔너리"
      ],
      "metadata": {
        "id": "oD5MfE62esFU"
      }
    },
    {
      "cell_type": "code",
      "source": [
        "code_matrix = pd.read_csv(\"/content/drive/MyDrive/2022_1 Urban Studies/@Dataset/상권코드.csv\")\n",
        "code_transl = dict(zip(code_matrix['neighbor_code'], code_matrix['neighbor_name']))\n",
        "#code_transl"
      ],
      "metadata": {
        "id": "R7BhnouReJ8F"
      },
      "execution_count": null,
      "outputs": []
    },
    {
      "cell_type": "markdown",
      "source": [
        "##### (1)  1000114 아차산로15길 2017년도 데이터 Translation"
      ],
      "metadata": {
        "id": "BxNw6cbVfcvU"
      }
    },
    {
      "cell_type": "code",
      "source": [
        "Itaewon54_transl = []\n",
        "\n",
        "for year in range(len(Itaewon54_yearly_data)) : \n",
        "  rank_list = []\n",
        "\n",
        "  for rank in range(len(Itaewon54_yearly_data[year])) :\n",
        "    transl = code_transl[Itaewon54_yearly_data[year][rank][0]]\n",
        "    value = Itaewon54_yearly_data[year][rank][1]\n",
        "    transl_list = [transl, value]\n",
        "    rank_list.append(transl_list)\n",
        "\n",
        "  Itaewon54_transl.append(rank_list)\n",
        "\n",
        "#Itaewon54_transl"
      ],
      "metadata": {
        "id": "s1kLYrGlfMhF"
      },
      "execution_count": null,
      "outputs": []
    },
    {
      "cell_type": "markdown",
      "source": [
        "##### (2) 1000360 도봉로114길 2017년도 데이터 Translation"
      ],
      "metadata": {
        "id": "vIpqT_JchJbM"
      }
    },
    {
      "cell_type": "code",
      "source": [
        "Wangshimni14_transl = []\n",
        "\n",
        "for year in range(len(Wangshimni14_yearly_data)) : \n",
        "  rank_list = []\n",
        "\n",
        "  for rank in range(len(Wangshimni14_yearly_data[year])) :\n",
        "    transl = code_transl[Wangshimni14_yearly_data[year][rank][0]]\n",
        "    value = Wangshimni14_yearly_data[year][rank][1]\n",
        "    transl_list = [transl, value]\n",
        "    rank_list.append(transl_list)\n",
        "\n",
        "  Wangshimni14_transl.append(rank_list)\n",
        "\n",
        "#Wangshimni14_transl"
      ],
      "metadata": {
        "id": "zKlgYHLUhz9t"
      },
      "execution_count": null,
      "outputs": []
    },
    {
      "cell_type": "markdown",
      "source": [
        "##### (3) 1000052 녹사평대로32길 2017년도 데이터 데이터 Translation"
      ],
      "metadata": {
        "id": "UKgulbnKhSPL"
      }
    },
    {
      "cell_type": "code",
      "source": [
        "Bukchon5_transl = []\n",
        "\n",
        "for year in range(len(Bukchon5_yearly_data)) : \n",
        "  rank_list = []\n",
        "\n",
        "  for rank in range(len(Bukchon5_yearly_data[year])) :\n",
        "    transl = code_transl[Bukchon5_yearly_data[year][rank][0]]\n",
        "    value = Bukchon5_yearly_data[year][rank][1]\n",
        "    transl_list = [transl, value]\n",
        "    rank_list.append(transl_list)\n",
        "\n",
        "  Bukchon5_transl.append(rank_list)\n",
        "\n",
        "#Bukchon5_transl"
      ],
      "metadata": {
        "id": "nY3S-1tHh_NE"
      },
      "execution_count": null,
      "outputs": []
    },
    {
      "cell_type": "markdown",
      "source": [
        "##### (4) 1000470 동교로38길 2017년도 데이터 Translation"
      ],
      "metadata": {
        "id": "MDThzq3PhSFE"
      }
    },
    {
      "cell_type": "code",
      "source": [
        "Opesan67_transl = []\n",
        "\n",
        "for year in range(len(Opesan67_yearly_data)) : \n",
        "  rank_list = []\n",
        "\n",
        "  for rank in range(len(Opesan67_yearly_data[year])) :\n",
        "    transl = code_transl[Opesan67_yearly_data[year][rank][0]]\n",
        "    value = Opesan67_yearly_data[year][rank][1]\n",
        "    transl_list = [transl, value]\n",
        "    rank_list.append(transl_list)\n",
        "\n",
        "  Opesan67_transl.append(rank_list)\n",
        "\n",
        "#Opesan67_transl"
      ],
      "metadata": {
        "id": "MVml0ARnhRgz"
      },
      "execution_count": null,
      "outputs": []
    },
    {
      "cell_type": "markdown",
      "source": [
        "## 4. 예측값 데이터 시각화"
      ],
      "metadata": {
        "id": "mrg2u66-uWee"
      }
    },
    {
      "cell_type": "markdown",
      "source": [
        "### (1) 1000114 아차산로15길 2017년도 데이터와 유사도가 높았던 항목 도출"
      ],
      "metadata": {
        "id": "uHDZJc4JF7ar"
      }
    },
    {
      "cell_type": "code",
      "source": [
        "count = []\n",
        "for year in range(len(Itaewon54_yearly_data)) :\n",
        "  for rank in range(len(Itaewon54_yearly_data[year])) :\n",
        "    name = code_transl[Itaewon54_yearly_data[year][rank][0]]\n",
        "    count.append(name)\n",
        "  \n",
        "pd.DataFrame(count).value_counts()-1"
      ],
      "metadata": {
        "id": "mEOiFQtNuX9Q",
        "colab": {
          "base_uri": "https://localhost:8080/"
        },
        "outputId": "a3928d52-d045-408f-e677-cc7b9dbfecaf"
      },
      "execution_count": null,
      "outputs": [
        {
          "output_type": "execute_result",
          "data": {
            "text/plain": [
              "성수이로18길      4\n",
              "아차산로11길      4\n",
              "경인로80길       4\n",
              "논현로26길       3\n",
              "아차산로15길      3\n",
              "충정로6길        2\n",
              "논현로28길       2\n",
              "종로24길        2\n",
              "충정로4길        1\n",
              "율곡로10길       1\n",
              "강남대로23길      1\n",
              "서초중앙로8길      1\n",
              "명동길          1\n",
              "남부순환로339길    1\n",
              "한강대로52길      1\n",
              "성수일로6길       0\n",
              "삼일대로4길       0\n",
              "종암로19길       0\n",
              "당산로37길       0\n",
              "dtype: int64"
            ]
          },
          "metadata": {},
          "execution_count": 162
        }
      ]
    },
    {
      "cell_type": "markdown",
      "source": [
        "유사도가 0.96이 넘으면서, 두 해 이상 top 10에 들었던 항목 도출"
      ],
      "metadata": {
        "id": "3OuZT_K7IiVK"
      }
    },
    {
      "cell_type": "code",
      "source": [
        "analysis_codes = [1000108, 1000113, 1000685, 1000900, 1000114, 1000452, 1000901, 1000017]\n",
        "analysis_names = ['성수이로18길', '아차산로11길', '경인로80길', '논현로26길', '아차산로15길', '충정로6길', '논현로28길', '종로24길']"
      ],
      "metadata": {
        "id": "pRTjWB4aErIi"
      },
      "execution_count": null,
      "outputs": []
    },
    {
      "cell_type": "code",
      "source": [
        "loc = \"/content/drive/MyDrive/2022_1 Urban Studies/@Dataset/추정매출데이터\"\n",
        "os.chdir(loc)\n",
        "year_list = glob.glob(\"*.csv\")"
      ],
      "metadata": {
        "id": "JwbUHvMdL306"
      },
      "execution_count": null,
      "outputs": []
    },
    {
      "cell_type": "markdown",
      "source": [
        "전체매출"
      ],
      "metadata": {
        "id": "3twP9ZQBNZ79"
      }
    },
    {
      "cell_type": "code",
      "source": [
        "# 아이템별 2017~2021 전체매출 추이\n",
        "items_total = []\n",
        "\n",
        "for i in range(len(analysis_codes)) :\n",
        "  year_progress = []\n",
        "\n",
        "  for y in range(len(year_list)) :\n",
        "    try:\n",
        "      df_year = pd.read_csv(loc+'/'+year_list[y], index_col='neighbor_code')\n",
        "      sales = list(df_year.loc[analysis_codes[i]])[0] # 0이면 전체매출, 1이면 203040매출\n",
        "      year_progress.append(sales)\n",
        "    except:\n",
        "      df_year = pd.read_csv(loc+'/'+year_list[y], index_col='neighbor_code', encoding='cp949')\n",
        "      sales = list(df_year.loc[analysis_codes[i]])[0]\n",
        "      year_progress.append(sales)      \n",
        "\n",
        "  items_total.append(year_progress)\n",
        "items_total"
      ],
      "metadata": {
        "colab": {
          "base_uri": "https://localhost:8080/"
        },
        "id": "dCmbO4DmMZzz",
        "outputId": "c641018c-4ba2-4278-e134-a5c9444a4740"
      },
      "execution_count": null,
      "outputs": [
        {
          "output_type": "execute_result",
          "data": {
            "text/plain": [
              "[[133.4238288, 146.0871991, 119.5904598, 125.0957139, 108.1391621],\n",
              " [315.5543631, 382.953328, 423.1802111, 243.400718, 406.3531354],\n",
              " [33.33976475, 47.45667575, 19.405529, 46.5574845, 15.5681],\n",
              " [1037.165894, 1182.803111, 1369.055177, 1382.058466, 1509.697108],\n",
              " [471.441604, 447.3652374, 403.0131605, 401.925896, 989.6954109],\n",
              " [431.4969207, 433.6750033, 302.6922537, 217.0986271, 272.8386633],\n",
              " [477.6343734, 449.8598316, 287.9330798, 318.8672676, 354.9123029],\n",
              " [51.6850186, 95.62923875, 72.91111125, 109.3608165, 79.8306285]]"
            ]
          },
          "metadata": {},
          "execution_count": 165
        }
      ]
    },
    {
      "cell_type": "code",
      "source": [
        "from matplotlib import pyplot as plt\n",
        "\n",
        "for i in range(len(items_total)) :\n",
        "\n",
        "  X = [2017, 2018, 2019, 2020, 2021]\n",
        "  Y1 = items_total[i] # 1000866의 전체 매출 변화 추이 (1)\n",
        "\n",
        "\n",
        "  plt.plot(X,Y1, marker='o')\n",
        "  plt.legend([analysis_codes[i]], loc=0)\n",
        "\n",
        "plt.show()"
      ],
      "metadata": {
        "colab": {
          "base_uri": "https://localhost:8080/",
          "height": 265
        },
        "id": "rwPiws6JMpjC",
        "outputId": "93e502ba-5c78-406f-ef71-63aa2f651b89"
      },
      "execution_count": null,
      "outputs": [
        {
          "output_type": "display_data",
          "data": {
            "text/plain": [
              "<Figure size 432x288 with 1 Axes>"
            ],
            "image/png": "[encoded data removed]"
          },
          "metadata": {
            "needs_background": "light"
          }
        }
      ]
    },
    {
      "cell_type": "markdown",
      "source": [
        "### (4) 1000470 동교로38길 2017년도 데이터와 유사도가 높았던 항목 도출"
      ],
      "metadata": {
        "id": "IZkb0aIFL_ZP"
      }
    },
    {
      "cell_type": "code",
      "source": [
        "count = []\n",
        "for year in range(len(Opesan67_yearly_data)) :\n",
        "  for rank in range(len(Opesan67_yearly_data[year])) :\n",
        "    name = code_transl[Opesan67_yearly_data[year][rank][0]]\n",
        "    count.append(name)\n",
        "  \n",
        "pd.DataFrame(count).value_counts()-1"
      ],
      "metadata": {
        "id": "oEsBYmm8RAws",
        "colab": {
          "base_uri": "https://localhost:8080/"
        },
        "outputId": "6995e658-8624-4233-e2e9-e5b47947d397"
      },
      "execution_count": null,
      "outputs": [
        {
          "output_type": "execute_result",
          "data": {
            "text/plain": [
              "강동대로53길      2\n",
              "남현3길         2\n",
              "화곡로4길        2\n",
              "남부순환로151길    1\n",
              "상암로51길       1\n",
              "천호대로109길     1\n",
              "월드컵로11길      1\n",
              "용마산로118길     1\n",
              "영등포로35길      1\n",
              "양평로19길       1\n",
              "선릉로18길       1\n",
              "아차산로65길      1\n",
              "삼양로8길        1\n",
              "서울시립대로4길     0\n",
              "천호옛14길       0\n",
              "동일로192길      0\n",
              "조원로10길       0\n",
              "자양로45길       0\n",
              "마포대로20길      0\n",
              "망우로18길       0\n",
              "오패산로67길      0\n",
              "오패산로4길       0\n",
              "목동동로12길      0\n",
              "영동대로112길     0\n",
              "연서로5길        0\n",
              "연서로29길       0\n",
              "백제고분로21길     0\n",
              "양재대로72길      0\n",
              "답십리로69길      0\n",
              "공항대로61길      0\n",
              "세검정로1길       0\n",
              "성균관로5길       0\n",
              "삼성로115길      0\n",
              "아차산로51길      0\n",
              "dtype: int64"
            ]
          },
          "metadata": {},
          "execution_count": 168
        }
      ]
    },
    {
      "cell_type": "code",
      "source": [
        "analysis_codes = [1000967, 1000802, 1000685, 1000551,1000980, 1000165]\n",
        "analysis_names = ['강동대로53길', '남현3길', '경인로80길', '화곡로4길', '상암로51길', '천호대로109길']"
      ],
      "metadata": {
        "id": "sziyn2uNL97c"
      },
      "execution_count": null,
      "outputs": []
    },
    {
      "cell_type": "code",
      "source": [
        "# 아이템별 2017~2021 전체매출 추이\n",
        "items_total = []\n",
        "\n",
        "for i in range(len(analysis_codes)) :\n",
        "  year_progress = []\n",
        "\n",
        "  for y in range(len(year_list)) :\n",
        "    try:\n",
        "      df_year = pd.read_csv(loc+'/'+year_list[y], index_col='neighbor_code')\n",
        "      sales = list(df_year.loc[analysis_codes[i]])[0] # 0이면 전체매출, 1이면 203040매출\n",
        "      year_progress.append(sales)\n",
        "    except:\n",
        "      df_year = pd.read_csv(loc+'/'+year_list[y], index_col='neighbor_code', encoding='cp949')\n",
        "      sales = list(df_year.loc[analysis_codes[i]])[0]\n",
        "      year_progress.append(sales)      \n",
        "\n",
        "  items_total.append(year_progress)\n",
        "items_total"
      ],
      "metadata": {
        "colab": {
          "base_uri": "https://localhost:8080/"
        },
        "id": "1umF8ZVZM6v-",
        "outputId": "c9d84f5e-7de2-4395-81c7-5d01bc1d1a5d"
      },
      "execution_count": null,
      "outputs": [
        {
          "output_type": "execute_result",
          "data": {
            "text/plain": [
              "[[379.6453794, 367.1827206, 269.8675524, 278.3817583, 295.905504],\n",
              " [155.6081824, 130.9323038, 102.1514142, 117.3095714, 125.1616823],\n",
              " [33.33976475, 47.45667575, 19.405529, 46.5574845, 15.5681],\n",
              " [202.641014, 205.5490369, 143.9654176, 166.9804926, 157.5692984],\n",
              " [251.0519318, 287.2815074, 207.3871566, 236.9759743, 209.1110468],\n",
              " [278.2975534, 313.9552392, 258.4321348, 309.4455865, 201.2206032]]"
            ]
          },
          "metadata": {},
          "execution_count": 170
        }
      ]
    },
    {
      "cell_type": "code",
      "source": [
        "from matplotlib import pyplot as plt\n",
        "\n",
        "for i in range(len(items_total)) :\n",
        "\n",
        "  X = [2017, 2018, 2019, 2020, 2021]\n",
        "  Y1 = items_total[i] # 1000866의 전체 매출 변화 추이 (1)\n",
        "\n",
        "\n",
        "  plt.plot(X,Y1, marker='o')\n",
        "  plt.legend([analysis_codes[i]], loc=0)\n",
        "\n",
        "plt.show()"
      ],
      "metadata": {
        "colab": {
          "base_uri": "https://localhost:8080/",
          "height": 265
        },
        "id": "s_7txVYJM99H",
        "outputId": "2d0c42e4-daef-45f9-b3c6-8380586c616e"
      },
      "execution_count": null,
      "outputs": [
        {
          "output_type": "display_data",
          "data": {
            "text/plain": [
              "<Figure size 432x288 with 1 Axes>"
            ],
            "image/png": "[encoded data removed]"
          },
          "metadata": {
            "needs_background": "light"
          }
        }
      ]
    },
    {
      "cell_type": "markdown",
      "source": [
        ""
      ],
      "metadata": {
        "id": "EvgdYRlSNFL3"
      }
    },
    {
      "cell_type": "markdown",
      "source": [
        "### (2) 1000360 도봉로114길 2017년도 데이터와 유사도가 높았던 항목 도출"
      ],
      "metadata": {
        "id": "Lmar9aFJNKAg"
      }
    },
    {
      "cell_type": "code",
      "source": [
        "count = []\n",
        "for year in range(len(Wangshimni14_yearly_data)) :\n",
        "  for rank in range(len(Wangshimni14_yearly_data[year])) :\n",
        "    name = code_transl[Wangshimni14_yearly_data[year][rank][0]]\n",
        "    count.append(name)\n",
        "  \n",
        "pd.DataFrame(count).value_counts()-1"
      ],
      "metadata": {
        "colab": {
          "base_uri": "https://localhost:8080/"
        },
        "id": "yZ5wXBMGNKoI",
        "outputId": "29bc15c8-b87f-46df-d3c4-ea45ca4ebb20"
      },
      "execution_count": null,
      "outputs": [
        {
          "output_type": "execute_result",
          "data": {
            "text/plain": [
              "상도로62길      2\n",
              "신흥로20길      2\n",
              "서오릉로8길      1\n",
              "청룡길         1\n",
              "고덕로10길      1\n",
              "상도로61길      1\n",
              "와우산로3길      1\n",
              "세검정로1길      1\n",
              "성북로8길       1\n",
              "도봉로114길     1\n",
              "화랑로14길      1\n",
              "천장산로7길      0\n",
              "인촌로1길       0\n",
              "평창길         0\n",
              "양천로26길      0\n",
              "화곡로59길      0\n",
              "신촌로37길      0\n",
              "화랑로40길      0\n",
              "휘경로3길       0\n",
              "신목로2길       0\n",
              "장군봉1길       0\n",
              "가재울로6길      0\n",
              "석계로1길       0\n",
              "사가정로54길     0\n",
              "북아현로4길      0\n",
              "봉은사로29길     0\n",
              "백제고분로21길    0\n",
              "망원로11길      0\n",
              "마조로1길       0\n",
              "동일로123길     0\n",
              "도봉산길        0\n",
              "노해로60길      0\n",
              "남부순환로97길    0\n",
              "광성로6길       0\n",
              "관악로30길      0\n",
              "공항대로61길     0\n",
              "흑석로9길       0\n",
              "dtype: int64"
            ]
          },
          "metadata": {},
          "execution_count": 172
        }
      ]
    },
    {
      "cell_type": "code",
      "source": [
        "analysis_codes = []\n",
        "analysis_names = ['상도로62길', '신흥로20길', '서오릉로8길', '청룡길', '상도로61길', '와우산로3길']\n",
        "\n",
        "for i in range(len(analysis_names)) :\n",
        "  name = analysis_names[i]\n",
        "  analysis_codes.append(name_transl.get(name))\n",
        "analysis_codes"
      ],
      "metadata": {
        "colab": {
          "base_uri": "https://localhost:8080/"
        },
        "id": "bdBiB17mNYgn",
        "outputId": "a4bd1847-26b3-44e1-90d1-abda4bddee71"
      },
      "execution_count": null,
      "outputs": [
        {
          "output_type": "execute_result",
          "data": {
            "text/plain": [
              "[1000761, 1000061, 1000396, 1000834, 1000760, 1000496]"
            ]
          },
          "metadata": {},
          "execution_count": 173
        }
      ]
    },
    {
      "cell_type": "code",
      "source": [
        "loc = \"/content/drive/MyDrive/2022_1 Urban Studies/@Dataset/추정매출데이터\"\n",
        "os.chdir(loc)\n",
        "year_list = glob.glob(\"*.csv\")"
      ],
      "metadata": {
        "id": "bJwFCGbNORaH"
      },
      "execution_count": null,
      "outputs": []
    },
    {
      "cell_type": "code",
      "source": [
        "# 아이템별 2017~2021 전체매출 추이\n",
        "items_total = []\n",
        "\n",
        "for i in range(len(analysis_codes)) :\n",
        "  year_progress = []\n",
        "\n",
        "  for y in range(len(year_list)) :\n",
        "    try:\n",
        "      df_year = pd.read_csv(loc+'/'+year_list[y], index_col='neighbor_code', encoding='cp949')\n",
        "      sales = list(df_year.loc[analysis_codes[i]])[0] # 0이면 전체매출, 1이면 203040매출\n",
        "      year_progress.append(sales)\n",
        "    except:\n",
        "      df_year = pd.read_csv(loc+'/'+year_list[y], index_col='neighbor_code')\n",
        "      sales = list(df_year.loc[analysis_codes[i]])[0]\n",
        "      year_progress.append(sales)      \n",
        "\n",
        "  items_total.append(year_progress)\n",
        "items_total"
      ],
      "metadata": {
        "colab": {
          "base_uri": "https://localhost:8080/"
        },
        "id": "ZfyueFdiOCrX",
        "outputId": "a4f938ff-2e1f-4a71-c25c-daa51978672e"
      },
      "execution_count": null,
      "outputs": [
        {
          "output_type": "execute_result",
          "data": {
            "text/plain": [
              "[[427.5522419, 428.4647965, 465.6134699, 483.18685, 393.1335976],\n",
              " [354.2170958, 332.9379117, 272.2074619, 245.3382197, 188.8659952],\n",
              " [106.4696044, 126.2041874, 215.9003005, 247.2643715, 211.161807],\n",
              " [265.6531542, 258.6325065, 364.1265452, 368.2566488, 435.8471972],\n",
              " [627.3729465, 655.3647391, 297.2975544, 469.3974251, 242.7822478],\n",
              " [226.28681, 239.2340576, 175.3549919, 247.1177533, 132.8523122]]"
            ]
          },
          "metadata": {},
          "execution_count": 175
        }
      ]
    },
    {
      "cell_type": "code",
      "source": [
        "from matplotlib import pyplot as plt\n",
        "\n",
        "for i in range(len(items_total)) :\n",
        "\n",
        "  X = [2017, 2018, 2019, 2020, 2021]\n",
        "  Y1 = items_total[i] # 1000866의 전체 매출 변화 추이 (1)\n",
        "\n",
        "\n",
        "  plt.plot(X,Y1, marker='o')\n",
        "  plt.legend([analysis_codes[i]], loc=0)\n",
        "\n",
        "plt.show()"
      ],
      "metadata": {
        "colab": {
          "base_uri": "https://localhost:8080/",
          "height": 265
        },
        "id": "qukMYrd9OFDf",
        "outputId": "a4dc6fee-1582-4f20-dff0-d29e21c9b45e"
      },
      "execution_count": null,
      "outputs": [
        {
          "output_type": "display_data",
          "data": {
            "text/plain": [
              "<Figure size 432x288 with 1 Axes>"
            ],
            "image/png": "[encoded data removed]"
          },
          "metadata": {
            "needs_background": "light"
          }
        }
      ]
    },
    {
      "cell_type": "code",
      "source": [
        ""
      ],
      "metadata": {
        "id": "nrwvoO5UQXUQ"
      },
      "execution_count": null,
      "outputs": []
    },
    {
      "cell_type": "markdown",
      "source": [
        "### (3) 1000052 녹사평대로32길 2017년도 데이터와 유사도가 높았던 항목 도출"
      ],
      "metadata": {
        "id": "q5b-8Mf1Qfsy"
      }
    },
    {
      "cell_type": "code",
      "source": [
        "count = []\n",
        "for year in range(len(Bukchon5_yearly_data)) :\n",
        "  for rank in range(len(Bukchon5_yearly_data[year])) :\n",
        "    name = code_transl[Bukchon5_yearly_data[year][rank][0]]\n",
        "    count.append(name)\n",
        "  \n",
        "pd.DataFrame(count).value_counts()-1"
      ],
      "metadata": {
        "colab": {
          "base_uri": "https://localhost:8080/"
        },
        "id": "ZnskmIklQhAY",
        "outputId": "14dce944-ff42-4951-f0fe-bf03923925f3"
      },
      "execution_count": null,
      "outputs": [
        {
          "output_type": "execute_result",
          "data": {
            "text/plain": [
              "성지3길         2\n",
              "녹사평대로32길     2\n",
              "청파로47길       2\n",
              "자하문로7길       2\n",
              "인촌로24길       2\n",
              "동교로38길       2\n",
              "이태원로54길      2\n",
              "북촌로5나길       2\n",
              "와우산로29길      2\n",
              "삼청로5길        1\n",
              "한남대로20길      1\n",
              "왕십리로14길      1\n",
              "흑석로13길       1\n",
              "사평대로22길      1\n",
              "동소문로6길       1\n",
              "논현로159길      1\n",
              "관악로14길       1\n",
              "공항대로38길      0\n",
              "아차산로78길      0\n",
              "동소문로15길      0\n",
              "인촌로1길        0\n",
              "도산대로15길      0\n",
              "녹사평대로40나길    0\n",
              "개운사길         0\n",
              "dtype: int64"
            ]
          },
          "metadata": {},
          "execution_count": 177
        }
      ]
    },
    {
      "cell_type": "code",
      "source": [
        "analysis_codes = []\n",
        "analysis_names = ['성지3길', '녹사평대로32길', '청파로47길', '자하문로7길', '인촌로24길', '동교로38길', '이태원로54길', '북촌로5나길', '와우산로29길']\n",
        "\n",
        "for i in range(len(analysis_names)) :\n",
        "  name = analysis_names[i]\n",
        "  analysis_codes.append(name_transl.get(name))\n",
        "analysis_codes"
      ],
      "metadata": {
        "colab": {
          "base_uri": "https://localhost:8080/"
        },
        "id": "TSLvm5Z0Q6rH",
        "outputId": "784e53fe-1712-4797-9ead-3b3c22b3117f"
      },
      "execution_count": null,
      "outputs": [
        {
          "output_type": "execute_result",
          "data": {
            "text/plain": [
              "[1000485,\n",
              " 1000052,\n",
              " 1000073,\n",
              " 1000016,\n",
              " 1000292,\n",
              " 1000470,\n",
              " 1000071,\n",
              " 1000008,\n",
              " 1000495]"
            ]
          },
          "metadata": {},
          "execution_count": 178
        }
      ]
    },
    {
      "cell_type": "code",
      "source": [
        "# 아이템별 2017~2021 전체매출 추이\n",
        "items_total = []\n",
        "\n",
        "for i in range(len(analysis_codes)) :\n",
        "  year_progress = []\n",
        "\n",
        "  for y in range(len(year_list)) :\n",
        "    try:\n",
        "      df_year = pd.read_csv(loc+'/'+year_list[y], index_col='neighbor_code', encoding='cp949')\n",
        "      sales = list(df_year.loc[analysis_codes[i]])[0] # 0이면 전체매출, 1이면 203040매출\n",
        "      year_progress.append(sales)\n",
        "    except:\n",
        "      df_year = pd.read_csv(loc+'/'+year_list[y], index_col='neighbor_code')\n",
        "      sales = list(df_year.loc[analysis_codes[i]])[0]\n",
        "      year_progress.append(sales)      \n",
        "\n",
        "  items_total.append(year_progress)\n",
        "items_total"
      ],
      "metadata": {
        "colab": {
          "base_uri": "https://localhost:8080/"
        },
        "id": "8M3cOGLHSFXG",
        "outputId": "0353a282-f6d0-4b10-cd75-08f4889992f4"
      },
      "execution_count": null,
      "outputs": [
        {
          "output_type": "execute_result",
          "data": {
            "text/plain": [
              "[[357.1788624, 382.214262, 443.9922743, 571.5392814, 457.4166821],\n",
              " [563.8544369, 788.6827852, 482.1332825, 586.4262602, 624.3399098],\n",
              " [1366.492771, 1292.988114, 1160.116, 1366.846947, 1008.255445],\n",
              " [873.9789429, 789.5516721, 355.6063715, 433.6725926, 703.3891298],\n",
              " [793.477032, 813.2590548, 389.0954966, 520.466057, 324.7352561],\n",
              " [927.4682916, 1255.084996, 911.9334496, 916.4480549, 982.6807933],\n",
              " [1787.433831, 2413.88005, 2022.16842, 1839.364579, 2190.484488],\n",
              " [762.1384643, 912.65683, 428.8157459, 515.4652517, 404.5606536],\n",
              " [672.2131284, 662.6782086, 363.5976245, 456.2689329, 272.6568461]]"
            ]
          },
          "metadata": {},
          "execution_count": 179
        }
      ]
    },
    {
      "cell_type": "code",
      "source": [
        "from matplotlib import pyplot as plt\n",
        "\n",
        "for i in range(len(items_total)) :\n",
        "\n",
        "  X = [2017, 2018, 2019, 2020, 2021]\n",
        "  Y1 = items_total[i] # 1000866의 전체 매출 변화 추이 (1)\n",
        "\n",
        "\n",
        "  plt.plot(X,Y1, marker='o')\n",
        "  plt.legend([analysis_codes[i]], loc=0)\n",
        "\n",
        "plt.show()"
      ],
      "metadata": {
        "id": "IcKIglO8SIZ3",
        "outputId": "aabfafca-f4df-4fee-bde7-0bd62d218028",
        "colab": {
          "base_uri": "https://localhost:8080/",
          "height": 267
        }
      },
      "execution_count": null,
      "outputs": [
        {
          "output_type": "display_data",
          "data": {
            "text/plain": [
              "<Figure size 432x288 with 1 Axes>"
            ],
            "image/png": "[encoded data removed]"
          },
          "metadata": {
            "needs_background": "light"
          }
        }
      ]
    },
    {
      "cell_type": "code",
      "source": [
        ""
      ],
      "metadata": {
        "id": "9732zFqpSKiH"
      },
      "execution_count": null,
      "outputs": []
    }
  ]
}